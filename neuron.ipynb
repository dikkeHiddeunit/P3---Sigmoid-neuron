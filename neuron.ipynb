{
 "cells": [
  {
   "cell_type": "markdown",
   "metadata": {},
   "source": [
    "**P3**\n",
    "\n",
    "Neuron class"
   ]
  },
  {
   "cell_type": "code",
   "execution_count": 1,
   "metadata": {},
   "outputs": [],
   "source": [
    "import math"
   ]
  },
  {
   "cell_type": "code",
   "execution_count": 2,
   "metadata": {},
   "outputs": [],
   "source": [
    "class Neuron:\n",
    "    def __init__(self, weights, threshold):\n",
    "        self.weights = weights\n",
    "        self.threshold = threshold\n",
    "\n",
    "    def activate(self, inputs):\n",
    "        \"\"\"\n",
    "        geeft de output van de neuron voor de gegeven inputs\n",
    "\n",
    "        parameters: een lijst van getallen\n",
    "\n",
    "        returns: een getal\n",
    "        \"\"\"\n",
    "        total = sum(w * i for w, i in zip(self.weights, inputs))\n",
    "        x = total - self.threshold\n",
    "        output = 1 / (1 + math.exp(-x))\n",
    "        return output\n",
    "\n",
    "\n",
    "    def __str__(self):\n",
    "        return f\"Neuron(weights={self.weights}, threshold={self.threshold})\"\n",
    "\n"
   ]
  },
  {
   "cell_type": "markdown",
   "metadata": {},
   "source": [
    "1. Test INVERT"
   ]
  },
  {
   "cell_type": "code",
   "execution_count": 3,
   "metadata": {},
   "outputs": [
    {
     "name": "stdout",
     "output_type": "stream",
     "text": [
      "0.5\n",
      "0.2689414213699951\n",
      "output for [0]: 1\n",
      "output for [1]: 0\n"
     ]
    }
   ],
   "source": [
    "invert_neuron = Neuron(weights=[-1], threshold=0)\n",
    "print(invert_neuron.activate([0])) # goede output - 1\n",
    "print(invert_neuron.activate([1])) # goede output - 0\n",
    "for inputs in [[0], [1]]:\n",
    "    output = invert_neuron.activate(inputs)\n",
    "    if output >= 0.5:\n",
    "        print(f\"output for {inputs}: 1\")\n",
    "    else:\n",
    "        print(f\"output for {inputs}: 0\")"
   ]
  },
  {
   "cell_type": "markdown",
   "metadata": {},
   "source": [
    "2. Test AND"
   ]
  },
  {
   "cell_type": "code",
   "execution_count": 4,
   "metadata": {},
   "outputs": [
    {
     "name": "stdout",
     "output_type": "stream",
     "text": [
      "0.11920292202211755\n",
      "0.2689414213699951\n",
      "0.2689414213699951\n",
      "0.5\n",
      "output for [0, 0]: 0\n",
      "output for [0, 1]: 0\n",
      "output for [1, 0]: 0\n",
      "output for [1, 1]: 1\n"
     ]
    }
   ],
   "source": [
    "and_neuron = Neuron(weights=[1, 1], threshold=2)\n",
    "print(and_neuron.activate([0, 0]))  # goede output - 0\n",
    "print(and_neuron.activate([0, 1]))  # goede output - 0\n",
    "print(and_neuron.activate([1, 0]))  # goede output - 0\n",
    "print(and_neuron.activate([1, 1]))  # goede output - 1\n",
    "for inputs in [[0, 0], [0, 1], [1, 0], [1, 1]]:\n",
    "    output = and_neuron.activate(inputs)\n",
    "    if output >= 0.5:\n",
    "        print(f\"output for {inputs}: 1\")\n",
    "    else:\n",
    "        print(f\"output for {inputs}: 0\")"
   ]
  },
  {
   "cell_type": "markdown",
   "metadata": {},
   "source": [
    "3. Test OR"
   ]
  },
  {
   "cell_type": "code",
   "execution_count": 5,
   "metadata": {},
   "outputs": [
    {
     "name": "stdout",
     "output_type": "stream",
     "text": [
      "0.11920292202211755\n",
      "0.2689414213699951\n",
      "0.2689414213699951\n",
      "0.5\n",
      "output for [0, 0]: 0\n",
      "output for [0, 1]: 1\n",
      "output for [1, 0]: 1\n",
      "output for [1, 1]: 1\n"
     ]
    }
   ],
   "source": [
    "or_neuron = Neuron(weights=[1, 1], threshold=1)\n",
    "print(and_neuron.activate([0, 0])) # goede output - 0\n",
    "print(and_neuron.activate([0, 1])) # goede output - 1 \n",
    "print(and_neuron.activate([1, 0])) # goede output - 1\n",
    "print(and_neuron.activate([1, 1])) # goede output - 1\n",
    "for inputs in [[0, 0], [0, 1], [1, 0], [1, 1]]:\n",
    "    output = or_neuron.activate(inputs)\n",
    "    if output >= 0.5:\n",
    "        print(f\"output for {inputs}: 1\")\n",
    "    else:\n",
    "        print(f\"output for {inputs}: 0\")"
   ]
  },
  {
   "cell_type": "markdown",
   "metadata": {},
   "source": [
    "Wat me opvalt is dat de functie nu niet 0 of 1 terug geeft maar (vaak) een komma getallen tussen 0 en 1 terug geeft. Dit werkt omdat ze allebei de input op een vergelijkbare manier verwerken.\n",
    " Ook al geven ze verschillende soorten antwoorden, de output is altijd terug te brengen naar 0 (output <0.5) of 1 (output >= 0.5)"
   ]
  },
  {
   "cell_type": "markdown",
   "metadata": {},
   "source": [
    "4. NOR neuron"
   ]
  },
  {
   "cell_type": "code",
   "execution_count": 6,
   "metadata": {},
   "outputs": [
    {
     "name": "stdout",
     "output_type": "stream",
     "text": [
      "0.5\n",
      "0.2689414213699951\n",
      "0.2689414213699951\n",
      "0.11920292202211755\n",
      "0.2689414213699951\n",
      "0.11920292202211755\n",
      "0.11920292202211755\n",
      "0.04742587317756678\n",
      "output for [0, 0, 0]: 1\n",
      "output for [0, 0, 1]: 0\n",
      "output for [0, 1, 0]: 0\n",
      "output for [0, 1, 1]: 0\n",
      "output for [1, 0, 0]: 0\n",
      "output for [1, 0, 1]: 0\n",
      "output for [1, 1, 0]: 0\n",
      "output for [1, 1, 1]: 0\n"
     ]
    }
   ],
   "source": [
    "\n",
    "nor_neuron = Neuron(weights=[-1, -1, -1], threshold=0)\n",
    "print(nor_neuron.activate([0, 0, 0]))  # Juiste output - 1\n",
    "print(nor_neuron.activate([0, 0, 1]))  # Juiste output - 0\n",
    "print(nor_neuron.activate([0, 1, 0]))  # Juiste output - 0\n",
    "print(nor_neuron.activate([0, 1, 1]))  # Juiste output - 0\n",
    "print(nor_neuron.activate([1, 0, 0]))  # Juiste output - 0\n",
    "print(nor_neuron.activate([1, 0, 1]))  # Juiste output - 0\n",
    "print(nor_neuron.activate([1, 1, 0]))  # Juiste output - 0\n",
    "print(nor_neuron.activate([1, 1, 1]))  # Juiste output - 0\n",
    "for inputs in [[0, 0, 0], [0, 0, 1], [0, 1, 0], [0, 1, 1], [1, 0, 0], [1, 0, 1], [1, 1, 0], [1, 1, 1]]:\n",
    "    output = nor_neuron.activate(inputs)\n",
    "    if output >= 0.5:\n",
    "        print(f\"output for {inputs}: 1\")\n",
    "    else:\n",
    "        print(f\"output for {inputs}: 0\")\n"
   ]
  },
  {
   "cell_type": "markdown",
   "metadata": {},
   "source": [
    "Neuron netwerk"
   ]
  },
  {
   "cell_type": "code",
   "execution_count": 7,
   "metadata": {},
   "outputs": [],
   "source": [
    "class NeuronLayer:\n",
    "    def __init__(self, neurons):\n",
    "        self.neurons = neurons\n",
    "    \n",
    "    def activate(self, inputs):\n",
    "        \"\"\"\n",
    "        Activeert de neuronen in deze laag met de gegeven inputs en retourneert de geactiveerde outputs.\n",
    "\n",
    "        Parameters:\n",
    "        inputs (list): Een lijst van inputwaarden.\n",
    "\n",
    "        Returns:\n",
    "        list: Een lijst van geactiveerde outputwaarden.\n",
    "        \"\"\"\n",
    "        outputs = []\n",
    "        for neuron in self.neurons:\n",
    "            outputs.append(neuron.activate(inputs))\n",
    "        return outputs\n",
    "\n",
    "    def __str__(self):\n",
    "        return f\"neurons - {self.neurons}\"\n",
    "\n",
    "\n",
    "\n",
    "class NeuronNetwork:\n",
    "    def __init__(self, layers):\n",
    "        self.layers = layers\n",
    "\n",
    "    def activate(self, inputs):\n",
    "        \"\"\"\n",
    "        Activeert de neuronen in deze laag met de gegeven inputs en retourneert de geactiveerde outputs.\n",
    "\n",
    "        Parameters:\n",
    "        inputs (list): Een lijst van inputwaarden.\n",
    "\n",
    "        Returns:\n",
    "        list: Een lijst van geactiveerde outputwaarden.\n",
    "\n",
    "        \"\"\"\n",
    "        for layer in self.layers:\n",
    "            inputs = layer.activate(inputs)\n",
    "        return inputs\n",
    "\n",
    "    def __str__(self):\n",
    "        return \"\\n\".join([f\"Layer {i}: {layer}\" for i, layer in enumerate(self.layers)])\n",
    "\n",
    "\n"
   ]
  },
  {
   "cell_type": "markdown",
   "metadata": {},
   "source": [
    "Half adder NeuronNetwork"
   ]
  },
  {
   "cell_type": "code",
   "execution_count": 47,
   "metadata": {},
   "outputs": [
    {
     "name": "stdout",
     "output_type": "stream",
     "text": [
      "Input: [0, 0] --> Output: ['1', '0']\n",
      "Input: [0, 1] --> Output: ['1', '0']\n",
      "Input: [1, 0] --> Output: ['1', '0']\n",
      "Input: [1, 1] --> Output: ['1', '0']\n"
     ]
    }
   ],
   "source": [
    "neuron1 = Neuron(weights=[-4, -4], threshold=3)  # NAND\n",
    "neuron2 = Neuron(weights=[2, 2], threshold=2)    # OR\n",
    "neuron3 = Neuron(weights=[1, 1], threshold=3)    # AND\n",
    "\n",
    "neuron4 = Neuron(weights=[1, 1, -2], threshold=0) \n",
    "neuron5 = Neuron(weights=[-2, -2, 1], threshold=2) \n",
    "\n",
    "perceptron1 = NeuronLayer([neuron1, neuron2, neuron3])\n",
    "perceptron2 = NeuronLayer([neuron4, neuron5])\n",
    "\n",
    "half_adder_network = NeuronNetwork([perceptron1, perceptron2])\n",
    "\n",
    "inputs = [\n",
    "    [0, 0],\n",
    "    [0, 1],\n",
    "    [1, 0],\n",
    "    [1, 1]\n",
    "]\n",
    "\n",
    "for input_data in inputs:\n",
    "    output = half_adder_network.activate(input_data)\n",
    "    print(f\"Input: {input_data} --> Output: {['1' if x >= 0.5 else '0' for x in output]}\")\n",
    "\n",
    "\n"
   ]
  }
 ],
 "metadata": {
  "kernelspec": {
   "display_name": "Python 3",
   "language": "python",
   "name": "python3"
  },
  "language_info": {
   "codemirror_mode": {
    "name": "ipython",
    "version": 3
   },
   "file_extension": ".py",
   "mimetype": "text/x-python",
   "name": "python",
   "nbconvert_exporter": "python",
   "pygments_lexer": "ipython3",
   "version": "3.11.2"
  }
 },
 "nbformat": 4,
 "nbformat_minor": 2
}
